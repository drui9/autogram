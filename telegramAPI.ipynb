{
 "cells": [
  {
   "cell_type": "code",
   "execution_count": 1,
   "metadata": {
    "id": "xiSzRVkVYaM7"
   },
   "outputs": [],
   "source": [
    "import requests\n",
    "\n",
    "TOKEN=None"
   ]
  },
  {
   "cell_type": "code",
   "execution_count": 2,
   "metadata": {
    "colab": {
     "base_uri": "https://localhost:8080/"
    },
    "id": "duHFq8asYfOU",
    "outputId": "8f75faee-7bce-42fd-f651-8d8b8a1701ad"
   },
   "outputs": [
    {
     "data": {
      "text/plain": [
       "{'ok': True,\n",
       " 'result': {'id': 5947364529,\n",
       "  'is_bot': True,\n",
       "  'first_name': '25Flow',\n",
       "  'username': 'Checkmated_bot',\n",
       "  'can_join_groups': True,\n",
       "  'can_read_all_group_messages': False,\n",
       "  'supports_inline_queries': False}}"
      ]
     },
     "execution_count": 2,
     "metadata": {},
     "output_type": "execute_result"
    }
   ],
   "source": [
    "#https://api.telegram.org/bot123456:ABC-DEF1234ghIkl-zyx57W2v1u123ew11/getMe\n",
    "\n",
    "getMe = requests.get(f'https://api.telegram.org/bot{TOKEN}/getMe')\n",
    "getMe.json()"
   ]
  },
  {
   "cell_type": "markdown",
   "metadata": {
    "id": "NkmtVF51a5W8"
   },
   "source": [
    "Added bot to group"
   ]
  },
  {
   "cell_type": "code",
   "execution_count": null,
   "metadata": {
    "colab": {
     "base_uri": "https://localhost:8080/"
    },
    "id": "qU_dsL-cZE2S",
    "outputId": "1c3ace17-dc7d-4e0e-fe3f-c4af89922075"
   },
   "outputs": [
    {
     "data": {
      "text/plain": [
       "{'ok': True,\n",
       " 'result': [{'update_id': 783767167,\n",
       "   'message': {'message_id': 376,\n",
       "    'from': {'id': 5342492667,\n",
       "     'is_bot': False,\n",
       "     'first_name': 'Nelson',\n",
       "     'last_name': 'II',\n",
       "     'username': 'sp3rtah',\n",
       "     'language_code': 'en'},\n",
       "    'chat': {'id': -628723932,\n",
       "     'title': 'Jeez',\n",
       "     'type': 'group',\n",
       "     'all_members_are_administrators': True},\n",
       "    'date': 1661773784,\n",
       "    'new_chat_participant': {'id': 5489700328,\n",
       "     'is_bot': True,\n",
       "     'first_name': 'Autogram',\n",
       "     'username': 'autogrammed_bot'},\n",
       "    'new_chat_member': {'id': 5489700328,\n",
       "     'is_bot': True,\n",
       "     'first_name': 'Autogram',\n",
       "     'username': 'autogrammed_bot'},\n",
       "    'new_chat_members': [{'id': 5489700328,\n",
       "      'is_bot': True,\n",
       "      'first_name': 'Autogram',\n",
       "      'username': 'autogrammed_bot'}]}}]}"
      ]
     },
     "execution_count": 17,
     "metadata": {},
     "output_type": "execute_result"
    }
   ],
   "source": [
    "params = {\n",
    "    'offset': 783767167\n",
    "}\n",
    "updates = requests.get(f'https://api.telegram.org/bot{TOKEN}/getUpdates', params=params)\n",
    "updates.json()"
   ]
  },
  {
   "cell_type": "markdown",
   "metadata": {
    "id": "-p6Yyczla_59"
   },
   "source": [
    "Remove bot from group"
   ]
  },
  {
   "cell_type": "code",
   "execution_count": null,
   "metadata": {
    "colab": {
     "base_uri": "https://localhost:8080/"
    },
    "id": "1V7bO4BDa7HP",
    "outputId": "17d2269d-e8ba-49d4-956b-c12006472268"
   },
   "outputs": [
    {
     "data": {
      "text/plain": [
       "{'ok': True,\n",
       " 'result': [{'update_id': 783767166,\n",
       "   'message': {'message_id': 375,\n",
       "    'from': {'id': 5342492667,\n",
       "     'is_bot': False,\n",
       "     'first_name': 'Nelson',\n",
       "     'last_name': 'II',\n",
       "     'username': 'sp3rtah',\n",
       "     'language_code': 'en'},\n",
       "    'chat': {'id': -628723932,\n",
       "     'title': 'Jeez',\n",
       "     'type': 'group',\n",
       "     'all_members_are_administrators': True},\n",
       "    'date': 1661773670,\n",
       "    'left_chat_participant': {'id': 5489700328,\n",
       "     'is_bot': True,\n",
       "     'first_name': 'Autogram',\n",
       "     'username': 'autogrammed_bot'},\n",
       "    'left_chat_member': {'id': 5489700328,\n",
       "     'is_bot': True,\n",
       "     'first_name': 'Autogram',\n",
       "     'username': 'autogrammed_bot'}}}]}"
      ]
     },
     "execution_count": 14,
     "metadata": {},
     "output_type": "execute_result"
    }
   ],
   "source": [
    "params = {\n",
    "    'offset': 783767166\n",
    "}\n",
    "updates = requests.get(f'https://api.telegram.org/bot{TOKEN}/getUpdates', params=params)\n",
    "updates.json()"
   ]
  },
  {
   "cell_type": "markdown",
   "metadata": {
    "id": "z0C2f4xibseI"
   },
   "source": [
    "Promoted to admin"
   ]
  },
  {
   "cell_type": "code",
   "execution_count": null,
   "metadata": {
    "colab": {
     "base_uri": "https://localhost:8080/"
    },
    "id": "Vy50CFoIcDhJ",
    "outputId": "0db35aff-2d93-4b78-c17a-603562a7230b"
   },
   "outputs": [
    {
     "data": {
      "text/plain": [
       "{'ok': True,\n",
       " 'result': [{'update_id': 783767168,\n",
       "   'message': {'message_id': 377,\n",
       "    'from': {'id': 5342492667,\n",
       "     'is_bot': False,\n",
       "     'first_name': 'Nelson',\n",
       "     'last_name': 'II',\n",
       "     'username': 'sp3rtah',\n",
       "     'language_code': 'en'},\n",
       "    'chat': {'id': -628723932,\n",
       "     'title': 'Jeez',\n",
       "     'type': 'group',\n",
       "     'all_members_are_administrators': False},\n",
       "    'date': 1661773867,\n",
       "    'migrate_to_chat_id': -1001679819192}},\n",
       "  {'update_id': 783767169,\n",
       "   'message': {'message_id': 1,\n",
       "    'from': {'id': 1087968824,\n",
       "     'is_bot': True,\n",
       "     'first_name': 'Group',\n",
       "     'username': 'GroupAnonymousBot'},\n",
       "    'sender_chat': {'id': -1001679819192,\n",
       "     'title': 'Jeez',\n",
       "     'type': 'supergroup'},\n",
       "    'chat': {'id': -1001679819192, 'title': 'Jeez', 'type': 'supergroup'},\n",
       "    'date': 1661773867,\n",
       "    'migrate_from_chat_id': -628723932}}]}"
      ]
     },
     "execution_count": 19,
     "metadata": {},
     "output_type": "execute_result"
    }
   ],
   "source": [
    "params = {\n",
    "    'offset': 783767168\n",
    "}\n",
    "updates = requests.get(f'https://api.telegram.org/bot{TOKEN}/getUpdates', params=params)\n",
    "updates.json()"
   ]
  },
  {
   "cell_type": "markdown",
   "metadata": {
    "id": "XwUWEwb1cjSg"
   },
   "source": [
    "Demoted from admin"
   ]
  },
  {
   "cell_type": "code",
   "execution_count": null,
   "metadata": {
    "colab": {
     "base_uri": "https://localhost:8080/"
    },
    "id": "UNvKdhiXcGTS",
    "outputId": "04b43295-4fae-4c95-b8e6-6541a8f68113"
   },
   "outputs": [
    {
     "data": {
      "text/plain": [
       "{'ok': True,\n",
       " 'result': [{'update_id': 783767170,\n",
       "   'message': {'message_id': 2,\n",
       "    'from': {'id': 5342492667,\n",
       "     'is_bot': False,\n",
       "     'first_name': 'Nelson',\n",
       "     'last_name': 'II',\n",
       "     'username': 'sp3rtah',\n",
       "     'language_code': 'en'},\n",
       "    'chat': {'id': -1001679819192, 'title': 'Jeez', 'type': 'supergroup'},\n",
       "    'date': 1661774207,\n",
       "    'left_chat_participant': {'id': 5489700328,\n",
       "     'is_bot': True,\n",
       "     'first_name': 'Autogram',\n",
       "     'username': 'autogrammed_bot'},\n",
       "    'left_chat_member': {'id': 5489700328,\n",
       "     'is_bot': True,\n",
       "     'first_name': 'Autogram',\n",
       "     'username': 'autogrammed_bot'}}}]}"
      ]
     },
     "execution_count": 28,
     "metadata": {},
     "output_type": "execute_result"
    }
   ],
   "source": [
    "params = {\n",
    "    'offset': 783767170\n",
    "}\n",
    "updates = requests.get(f'https://api.telegram.org/bot{TOKEN}/getUpdates', params=params)\n",
    "updates.json()"
   ]
  },
  {
   "cell_type": "markdown",
   "metadata": {
    "id": "7wnWB0VmeRdY"
   },
   "source": [
    "# GROUP MESSAGES"
   ]
  },
  {
   "cell_type": "code",
   "execution_count": null,
   "metadata": {
    "colab": {
     "base_uri": "https://localhost:8080/"
    },
    "id": "Pz4ei1ildDT2",
    "outputId": "f20aa7f3-4630-489b-ac09-03174a642dfe"
   },
   "outputs": [
    {
     "data": {
      "text/plain": [
       "{'ok': True,\n",
       " 'result': [{'update_id': 783767175,\n",
       "   'message': {'message_id': 7,\n",
       "    'from': {'id': 5342492667,\n",
       "     'is_bot': False,\n",
       "     'first_name': 'Nelson',\n",
       "     'last_name': 'II',\n",
       "     'username': 'sp3rtah',\n",
       "     'language_code': 'en'},\n",
       "    'chat': {'id': -1001679819192, 'title': 'Jeez', 'type': 'supergroup'},\n",
       "    'date': 1661774459,\n",
       "    'text': 'Hi'}},\n",
       "  {'update_id': 783767176,\n",
       "   'message': {'message_id': 8,\n",
       "    'from': {'id': 5342492667,\n",
       "     'is_bot': False,\n",
       "     'first_name': 'Nelson',\n",
       "     'last_name': 'II',\n",
       "     'username': 'sp3rtah',\n",
       "     'language_code': 'en'},\n",
       "    'chat': {'id': -1001679819192, 'title': 'Jeez', 'type': 'supergroup'},\n",
       "    'date': 1661774464,\n",
       "    'text': '❤️'}},\n",
       "  {'update_id': 783767177,\n",
       "   'message': {'message_id': 9,\n",
       "    'from': {'id': 5342492667,\n",
       "     'is_bot': False,\n",
       "     'first_name': 'Nelson',\n",
       "     'last_name': 'II',\n",
       "     'username': 'sp3rtah',\n",
       "     'language_code': 'en'},\n",
       "    'chat': {'id': -1001679819192, 'title': 'Jeez', 'type': 'supergroup'},\n",
       "    'date': 1661774476,\n",
       "    'photo': [{'file_id': 'AgACAgQAAx0CZCABuAADCWMMqovTx6YY-NlsAAGbq8mZCMPePgAC0bsxG1z1aFD70LTVlsIKdgEAAwIAA3MAAykE',\n",
       "      'file_unique_id': 'AQAD0bsxG1z1aFB4',\n",
       "      'file_size': 1326,\n",
       "      'width': 90,\n",
       "      'height': 90},\n",
       "     {'file_id': 'AgACAgQAAx0CZCABuAADCWMMqovTx6YY-NlsAAGbq8mZCMPePgAC0bsxG1z1aFD70LTVlsIKdgEAAwIAA20AAykE',\n",
       "      'file_unique_id': 'AQAD0bsxG1z1aFBy',\n",
       "      'file_size': 21034,\n",
       "      'width': 320,\n",
       "      'height': 320},\n",
       "     {'file_id': 'AgACAgQAAx0CZCABuAADCWMMqovTx6YY-NlsAAGbq8mZCMPePgAC0bsxG1z1aFD70LTVlsIKdgEAAwIAA3gAAykE',\n",
       "      'file_unique_id': 'AQAD0bsxG1z1aFB9',\n",
       "      'file_size': 104819,\n",
       "      'width': 800,\n",
       "      'height': 800},\n",
       "     {'file_id': 'AgACAgQAAx0CZCABuAADCWMMqovTx6YY-NlsAAGbq8mZCMPePgAC0bsxG1z1aFD70LTVlsIKdgEAAwIAA3kAAykE',\n",
       "      'file_unique_id': 'AQAD0bsxG1z1aFB-',\n",
       "      'file_size': 106908,\n",
       "      'width': 896,\n",
       "      'height': 896}]}},\n",
       "  {'update_id': 783767178,\n",
       "   'message': {'message_id': 10,\n",
       "    'from': {'id': 5342492667,\n",
       "     'is_bot': False,\n",
       "     'first_name': 'Nelson',\n",
       "     'last_name': 'II',\n",
       "     'username': 'sp3rtah',\n",
       "     'language_code': 'en'},\n",
       "    'chat': {'id': -1001679819192, 'title': 'Jeez', 'type': 'supergroup'},\n",
       "    'date': 1661774483,\n",
       "    'document': {'file_name': 'How to install ngrok in Termux on Android 2022 - Crisis Shelter',\n",
       "     'mime_type': 'application/octet-stream',\n",
       "     'file_id': 'BQACAgQAAx0CZCABuAADCmMMqpNpd15_13xT28tghgpTN9jhAALIDQACXPVoUPTPbGzNEtOKKQQ',\n",
       "     'file_unique_id': 'AgADyA0AAlz1aFA',\n",
       "     'file_size': 208415}}},\n",
       "  {'update_id': 783767179,\n",
       "   'message': {'message_id': 11,\n",
       "    'from': {'id': 5342492667,\n",
       "     'is_bot': False,\n",
       "     'first_name': 'Nelson',\n",
       "     'last_name': 'II',\n",
       "     'username': 'sp3rtah',\n",
       "     'language_code': 'en'},\n",
       "    'chat': {'id': -1001679819192, 'title': 'Jeez', 'type': 'supergroup'},\n",
       "    'date': 1661774526,\n",
       "    'video_note': {'duration': 7,\n",
       "     'length': 384,\n",
       "     'thumb': {'file_id': 'AAMCBAADHQJkIAG4AAMLYwyqvvHK8QmeiC4Jlsf796ejAioAAskNAAJc9WhQ-_lMygFQIBsBAAdtAAMpBA',\n",
       "      'file_unique_id': 'AQADyQ0AAlz1aFBy',\n",
       "      'file_size': 8229,\n",
       "      'width': 320,\n",
       "      'height': 320},\n",
       "     'file_id': 'DQACAgQAAx0CZCABuAADC2MMqr7xyvEJnoguCZbH-_enowIqAALJDQACXPVoUPv5TMoBUCAbKQQ',\n",
       "     'file_unique_id': 'AgADyQ0AAlz1aFA',\n",
       "     'file_size': 917002}}},\n",
       "  {'update_id': 783767180,\n",
       "   'message': {'message_id': 12,\n",
       "    'from': {'id': 5342492667,\n",
       "     'is_bot': False,\n",
       "     'first_name': 'Nelson',\n",
       "     'last_name': 'II',\n",
       "     'username': 'sp3rtah',\n",
       "     'language_code': 'en'},\n",
       "    'chat': {'id': -1001679819192, 'title': 'Jeez', 'type': 'supergroup'},\n",
       "    'date': 1661774541,\n",
       "    'voice': {'duration': 5,\n",
       "     'mime_type': 'audio/ogg',\n",
       "     'file_id': 'AwACAgQAAx0CZCABuAADDGMMqs21BZvfH6r6YCbWXDN9bwXNAALKDQACXPVoULG3FxgvEtKBKQQ',\n",
       "     'file_unique_id': 'AgADyg0AAlz1aFA',\n",
       "     'file_size': 111669}}},\n",
       "  {'update_id': 783767181,\n",
       "   'message': {'message_id': 13,\n",
       "    'from': {'id': 5342492667,\n",
       "     'is_bot': False,\n",
       "     'first_name': 'Nelson',\n",
       "     'last_name': 'II',\n",
       "     'username': 'sp3rtah',\n",
       "     'language_code': 'en'},\n",
       "    'chat': {'id': -1001679819192, 'title': 'Jeez', 'type': 'supergroup'},\n",
       "    'date': 1661774562,\n",
       "    'poll': {'id': '5794150696097939541',\n",
       "     'question': 'Manage?',\n",
       "     'options': [{'text': 'A', 'voter_count': 0},\n",
       "      {'text': 'B', 'voter_count': 0}],\n",
       "     'total_voter_count': 0,\n",
       "     'is_closed': False,\n",
       "     'is_anonymous': True,\n",
       "     'type': 'regular',\n",
       "     'allows_multiple_answers': False}}},\n",
       "  {'update_id': 783767182,\n",
       "   'message': {'message_id': 14,\n",
       "    'from': {'id': 5342492667,\n",
       "     'is_bot': False,\n",
       "     'first_name': 'Nelson',\n",
       "     'last_name': 'II',\n",
       "     'username': 'sp3rtah',\n",
       "     'language_code': 'en'},\n",
       "    'chat': {'id': -1001679819192, 'title': 'Jeez', 'type': 'supergroup'},\n",
       "    'date': 1661774637,\n",
       "    'location': {'latitude': 20.659324, 'longitude': -11.406255}}},\n",
       "  {'update_id': 783767183,\n",
       "   'message': {'message_id': 15,\n",
       "    'from': {'id': 5342492667,\n",
       "     'is_bot': False,\n",
       "     'first_name': 'Nelson',\n",
       "     'last_name': 'II',\n",
       "     'username': 'sp3rtah',\n",
       "     'language_code': 'en'},\n",
       "    'chat': {'id': -1001679819192, 'title': 'Jeez', 'type': 'supergroup'},\n",
       "    'date': 1661774653,\n",
       "    'audio': {'duration': 150,\n",
       "     'file_name': 'Tyg - Fwttb Trk 12 Dont M Omin Ft  Offiil Udio.mp3',\n",
       "     'mime_type': 'audio/mpeg',\n",
       "     'title': \"#FWTTB Track 12. Don't C Me Comin ft. A.E (Official Audio)\",\n",
       "     'performer': 'Tyga',\n",
       "     'file_id': 'CQACAgQAAx0CZCABuAADD2MMqzx4dAGZnCB9FyO0SGpV0TCVAALLDQACXPVoUJfHrhf7YO8VKQQ',\n",
       "     'file_unique_id': 'AgADyw0AAlz1aFA',\n",
       "     'file_size': 2418746}}}]}"
      ]
     },
     "execution_count": 42,
     "metadata": {},
     "output_type": "execute_result"
    }
   ],
   "source": [
    "params = {\n",
    "    'offset': 783767175\n",
    "}\n",
    "updates = requests.get(f'https://api.telegram.org/bot{TOKEN}/getUpdates', params=params)\n",
    "updates.json()"
   ]
  },
  {
   "cell_type": "markdown",
   "metadata": {
    "id": "iDxwnB_ZfTUA"
   },
   "source": [
    "# PRIVATE MESSAGES"
   ]
  },
  {
   "cell_type": "code",
   "execution_count": null,
   "metadata": {
    "colab": {
     "base_uri": "https://localhost:8080/"
    },
    "id": "P7-0ojvBeU35",
    "outputId": "22cb0f42-6ad6-44ed-eef2-4cbe2787085d"
   },
   "outputs": [
    {
     "data": {
      "text/plain": [
       "{'ok': True,\n",
       " 'result': [{'update_id': 783767184,\n",
       "   'message': {'message_id': 378,\n",
       "    'from': {'id': 5342492667,\n",
       "     'is_bot': False,\n",
       "     'first_name': 'Nelson',\n",
       "     'last_name': 'II',\n",
       "     'username': 'sp3rtah',\n",
       "     'language_code': 'en'},\n",
       "    'chat': {'id': 5342492667,\n",
       "     'first_name': 'Nelson',\n",
       "     'last_name': 'II',\n",
       "     'username': 'sp3rtah',\n",
       "     'type': 'private'},\n",
       "    'date': 1661774708,\n",
       "    'text': '/start',\n",
       "    'entities': [{'offset': 0, 'length': 6, 'type': 'bot_command'}]}},\n",
       "  {'update_id': 783767185,\n",
       "   'message': {'message_id': 379,\n",
       "    'from': {'id': 5342492667,\n",
       "     'is_bot': False,\n",
       "     'first_name': 'Nelson',\n",
       "     'last_name': 'II',\n",
       "     'username': 'sp3rtah',\n",
       "     'language_code': 'en'},\n",
       "    'chat': {'id': 5342492667,\n",
       "     'first_name': 'Nelson',\n",
       "     'last_name': 'II',\n",
       "     'username': 'sp3rtah',\n",
       "     'type': 'private'},\n",
       "    'date': 1661774714,\n",
       "    'photo': [{'file_id': 'AgACAgQAAxkBAAIBe2MMq3k9FeofhJVqb1C-kntL3jTdAAI0vDEbzWVoUOKh5selEexnAQADAgADcwADKQQ',\n",
       "      'file_unique_id': 'AQADNLwxG81laFB4',\n",
       "      'file_size': 1106,\n",
       "      'width': 90,\n",
       "      'height': 90},\n",
       "     {'file_id': 'AgACAgQAAxkBAAIBe2MMq3k9FeofhJVqb1C-kntL3jTdAAI0vDEbzWVoUOKh5selEexnAQADAgADbQADKQQ',\n",
       "      'file_unique_id': 'AQADNLwxG81laFBy',\n",
       "      'file_size': 14261,\n",
       "      'width': 320,\n",
       "      'height': 320},\n",
       "     {'file_id': 'AgACAgQAAxkBAAIBe2MMq3k9FeofhJVqb1C-kntL3jTdAAI0vDEbzWVoUOKh5selEexnAQADAgADeAADKQQ',\n",
       "      'file_unique_id': 'AQADNLwxG81laFB9',\n",
       "      'file_size': 58030,\n",
       "      'width': 800,\n",
       "      'height': 800},\n",
       "     {'file_id': 'AgACAgQAAxkBAAIBe2MMq3k9FeofhJVqb1C-kntL3jTdAAI0vDEbzWVoUOKh5selEexnAQADAgADeQADKQQ',\n",
       "      'file_unique_id': 'AQADNLwxG81laFB-',\n",
       "      'file_size': 58351,\n",
       "      'width': 896,\n",
       "      'height': 896}]}},\n",
       "  {'update_id': 783767186,\n",
       "   'message': {'message_id': 380,\n",
       "    'from': {'id': 5342492667,\n",
       "     'is_bot': False,\n",
       "     'first_name': 'Nelson',\n",
       "     'last_name': 'II',\n",
       "     'username': 'sp3rtah',\n",
       "     'language_code': 'en'},\n",
       "    'chat': {'id': 5342492667,\n",
       "     'first_name': 'Nelson',\n",
       "     'last_name': 'II',\n",
       "     'username': 'sp3rtah',\n",
       "     'type': 'private'},\n",
       "    'date': 1661774729,\n",
       "    'voice': {'duration': 3,\n",
       "     'mime_type': 'audio/ogg',\n",
       "     'file_id': 'AwACAgQAAxkBAAIBfGMMq4kqWgABbCT-jFynofSkdGt52AACWg0AAs1laFB507sZpjCW4ikE',\n",
       "     'file_unique_id': 'AgADWg0AAs1laFA',\n",
       "     'file_size': 72117}}},\n",
       "  {'update_id': 783767187,\n",
       "   'message': {'message_id': 381,\n",
       "    'from': {'id': 5342492667,\n",
       "     'is_bot': False,\n",
       "     'first_name': 'Nelson',\n",
       "     'last_name': 'II',\n",
       "     'username': 'sp3rtah',\n",
       "     'language_code': 'en'},\n",
       "    'chat': {'id': 5342492667,\n",
       "     'first_name': 'Nelson',\n",
       "     'last_name': 'II',\n",
       "     'username': 'sp3rtah',\n",
       "     'type': 'private'},\n",
       "    'date': 1661774729,\n",
       "    'video': {'duration': 25,\n",
       "     'width': 720,\n",
       "     'height': 900,\n",
       "     'mime_type': 'video/mp4',\n",
       "     'thumb': {'file_id': 'AAMCBAADGQEAAgF9Ywyrif4tyWT1Hq2CUFIUxRBGTcsAAlsNAALNZWhQawcBELyrE3cBAAdtAAMpBA',\n",
       "      'file_unique_id': 'AQADWw0AAs1laFBy',\n",
       "      'file_size': 2790,\n",
       "      'width': 256,\n",
       "      'height': 320},\n",
       "     'file_id': 'BAACAgQAAxkBAAIBfWMMq4n-Lclk9R6tglBSFMUQRk3LAAJbDQACzWVoUGsHARC8qxN3KQQ',\n",
       "     'file_unique_id': 'AgADWw0AAs1laFA',\n",
       "     'file_size': 2652448}}},\n",
       "  {'update_id': 783767188,\n",
       "   'message': {'message_id': 382,\n",
       "    'from': {'id': 5342492667,\n",
       "     'is_bot': False,\n",
       "     'first_name': 'Nelson',\n",
       "     'last_name': 'II',\n",
       "     'username': 'sp3rtah',\n",
       "     'language_code': 'en'},\n",
       "    'chat': {'id': 5342492667,\n",
       "     'first_name': 'Nelson',\n",
       "     'last_name': 'II',\n",
       "     'username': 'sp3rtah',\n",
       "     'type': 'private'},\n",
       "    'date': 1661774731,\n",
       "    'video_note': {'duration': 3,\n",
       "     'length': 384,\n",
       "     'thumb': {'file_id': 'AAMCBAADGQEAAgF-Ywyri1zF7CpPHuOpbY_3YFUiBzcAAlwNAALNZWhQwN1nigKyFdEBAAdtAAMpBA',\n",
       "      'file_unique_id': 'AQADXA0AAs1laFBy',\n",
       "      'file_size': 8109,\n",
       "      'width': 320,\n",
       "      'height': 320},\n",
       "     'file_id': 'DQACAgQAAxkBAAIBfmMMq4tcxewqTx7jqW2P92BVIgc3AAJcDQACzWVoUMDdZ4oCshXRKQQ',\n",
       "     'file_unique_id': 'AgADXA0AAs1laFA',\n",
       "     'file_size': 267709}}},\n",
       "  {'update_id': 783767189,\n",
       "   'message': {'message_id': 383,\n",
       "    'from': {'id': 5342492667,\n",
       "     'is_bot': False,\n",
       "     'first_name': 'Nelson',\n",
       "     'last_name': 'II',\n",
       "     'username': 'sp3rtah',\n",
       "     'language_code': 'en'},\n",
       "    'chat': {'id': 5342492667,\n",
       "     'first_name': 'Nelson',\n",
       "     'last_name': 'II',\n",
       "     'username': 'sp3rtah',\n",
       "     'type': 'private'},\n",
       "    'date': 1661774735,\n",
       "    'document': {'file_name': 'How to install ngrok in Termux on Android 2022 - Crisis Shelter',\n",
       "     'mime_type': 'application/octet-stream',\n",
       "     'file_id': 'BQACAgQAAxkBAAIBf2MMq4-oWrb-fZQf9g2fypALzRJ9AALIDQACXPVoUPTPbGzNEtOKKQQ',\n",
       "     'file_unique_id': 'AgADyA0AAlz1aFA',\n",
       "     'file_size': 208415}}},\n",
       "  {'update_id': 783767190,\n",
       "   'message': {'message_id': 384,\n",
       "    'from': {'id': 5342492667,\n",
       "     'is_bot': False,\n",
       "     'first_name': 'Nelson',\n",
       "     'last_name': 'II',\n",
       "     'username': 'sp3rtah',\n",
       "     'language_code': 'en'},\n",
       "    'chat': {'id': 5342492667,\n",
       "     'first_name': 'Nelson',\n",
       "     'last_name': 'II',\n",
       "     'username': 'sp3rtah',\n",
       "     'type': 'private'},\n",
       "    'date': 1661774755,\n",
       "    'audio': {'duration': 219,\n",
       "     'file_name': 'Tyga - Fwttb Track 15 Candal.mp3',\n",
       "     'mime_type': 'audio/mpeg',\n",
       "     'title': '#FWTTB Track 15. $candal (Official Audio)',\n",
       "     'performer': 'Tyga',\n",
       "     'file_id': 'CQACAgQAAxkBAAIBgGMMq6PQ4f4xkmG53W7qvAe1EQX3AAJdDQACzWVoUBaXUCgrEGHtKQQ',\n",
       "     'file_unique_id': 'AgADXQ0AAs1laFA',\n",
       "     'file_size': 3524233}}},\n",
       "  {'update_id': 783767191,\n",
       "   'message': {'message_id': 385,\n",
       "    'from': {'id': 5342492667,\n",
       "     'is_bot': False,\n",
       "     'first_name': 'Nelson',\n",
       "     'last_name': 'II',\n",
       "     'username': 'sp3rtah',\n",
       "     'language_code': 'en'},\n",
       "    'chat': {'id': 5342492667,\n",
       "     'first_name': 'Nelson',\n",
       "     'last_name': 'II',\n",
       "     'username': 'sp3rtah',\n",
       "     'type': 'private'},\n",
       "    'date': 1661774781,\n",
       "    'contact': {'phone_number': '*131#',\n",
       "     'first_name': 'Balance',\n",
       "     'last_name': 'query',\n",
       "     'vcard': 'BEGIN:VCARD\\nVERSION:3.0\\nFN:Balance query\\nTEL;CELL:*131#\\nEND:VCARD'}}},\n",
       "  {'update_id': 783767192,\n",
       "   'message': {'message_id': 386,\n",
       "    'from': {'id': 5342492667,\n",
       "     'is_bot': False,\n",
       "     'first_name': 'Nelson',\n",
       "     'last_name': 'II',\n",
       "     'username': 'sp3rtah',\n",
       "     'language_code': 'en'},\n",
       "    'chat': {'id': 5342492667,\n",
       "     'first_name': 'Nelson',\n",
       "     'last_name': 'II',\n",
       "     'username': 'sp3rtah',\n",
       "     'type': 'private'},\n",
       "    'date': 1661774801,\n",
       "    'text': '💋'}},\n",
       "  {'update_id': 783767193,\n",
       "   'message': {'message_id': 387,\n",
       "    'from': {'id': 5342492667,\n",
       "     'is_bot': False,\n",
       "     'first_name': 'Nelson',\n",
       "     'last_name': 'II',\n",
       "     'username': 'sp3rtah',\n",
       "     'language_code': 'en'},\n",
       "    'chat': {'id': 5342492667,\n",
       "     'first_name': 'Nelson',\n",
       "     'last_name': 'II',\n",
       "     'username': 'sp3rtah',\n",
       "     'type': 'private'},\n",
       "    'date': 1661774813,\n",
       "    'location': {'latitude': 20.659324, 'longitude': -11.406255}}},\n",
       "  {'update_id': 783767194,\n",
       "   'message': {'message_id': 388,\n",
       "    'from': {'id': 5342492667,\n",
       "     'is_bot': False,\n",
       "     'first_name': 'Nelson',\n",
       "     'last_name': 'II',\n",
       "     'username': 'sp3rtah',\n",
       "     'language_code': 'en'},\n",
       "    'chat': {'id': 5342492667,\n",
       "     'first_name': 'Nelson',\n",
       "     'last_name': 'II',\n",
       "     'username': 'sp3rtah',\n",
       "     'type': 'private'},\n",
       "    'date': 1661774836,\n",
       "    'reply_to_message': {'message_id': 387,\n",
       "     'from': {'id': 5342492667,\n",
       "      'is_bot': False,\n",
       "      'first_name': 'Nelson',\n",
       "      'last_name': 'II',\n",
       "      'username': 'sp3rtah',\n",
       "      'language_code': 'en'},\n",
       "     'chat': {'id': 5342492667,\n",
       "      'first_name': 'Nelson',\n",
       "      'last_name': 'II',\n",
       "      'username': 'sp3rtah',\n",
       "      'type': 'private'},\n",
       "     'date': 1661774813,\n",
       "     'location': {'latitude': 20.659324, 'longitude': -11.406255}},\n",
       "    'text': 'Reply'}}]}"
      ]
     },
     "execution_count": 44,
     "metadata": {},
     "output_type": "execute_result"
    }
   ],
   "source": [
    "params = {\n",
    "    'offset': 783767184\n",
    "}\n",
    "updates = requests.get(f'https://api.telegram.org/bot{TOKEN}/getUpdates', params=params)\n",
    "updates.json()"
   ]
  },
  {
   "cell_type": "markdown",
   "metadata": {
    "id": "Hopg3LphgAn2"
   },
   "source": [
    "# Channel Add"
   ]
  },
  {
   "cell_type": "code",
   "execution_count": null,
   "metadata": {
    "colab": {
     "base_uri": "https://localhost:8080/"
    },
    "id": "_R5_l_JPfZgE",
    "outputId": "b65a286c-08a6-4027-a0b2-6ccb93b879cf"
   },
   "outputs": [
    {
     "data": {
      "text/plain": [
       "{'ok': True,\n",
       " 'result': [{'update_id': 783767198,\n",
       "   'my_chat_member': {'chat': {'id': -1001658651810,\n",
       "     'title': 'Geez',\n",
       "     'type': 'channel'},\n",
       "    'from': {'id': 5342492667,\n",
       "     'is_bot': False,\n",
       "     'first_name': 'Nelson',\n",
       "     'last_name': 'II',\n",
       "     'username': 'sp3rtah',\n",
       "     'language_code': 'en'},\n",
       "    'date': 1661775848,\n",
       "    'old_chat_member': {'user': {'id': 5489700328,\n",
       "      'is_bot': True,\n",
       "      'first_name': 'Autogram',\n",
       "      'username': 'autogrammed_bot'},\n",
       "     'status': 'kicked',\n",
       "     'until_date': 0},\n",
       "    'new_chat_member': {'user': {'id': 5489700328,\n",
       "      'is_bot': True,\n",
       "      'first_name': 'Autogram',\n",
       "      'username': 'autogrammed_bot'},\n",
       "     'status': 'administrator',\n",
       "     'can_be_edited': False,\n",
       "     'can_manage_chat': True,\n",
       "     'can_change_info': True,\n",
       "     'can_post_messages': True,\n",
       "     'can_edit_messages': True,\n",
       "     'can_delete_messages': True,\n",
       "     'can_invite_users': True,\n",
       "     'can_restrict_members': True,\n",
       "     'can_promote_members': True,\n",
       "     'can_manage_video_chats': True,\n",
       "     'is_anonymous': False,\n",
       "     'can_manage_voice_chats': True}}}]}"
      ]
     },
     "execution_count": 83,
     "metadata": {},
     "output_type": "execute_result"
    }
   ],
   "source": [
    "params = {\n",
    "    'offset': 783767198,\n",
    "    'allowed_updates': '[\"message\", \"edited_message\", \"channel_post\", \"edited_channel_post\", \"inline_query\", \"chosen_inline_result\", \"chat_member\", \"my_chat_member\", \"chat_join_request\"]'\n",
    "}\n",
    "updates = requests.get(f'https://api.telegram.org/bot{TOKEN}/getUpdates', params=params)\n",
    "updates.json()"
   ]
  },
  {
   "cell_type": "markdown",
   "metadata": {
    "id": "xQ19uayij1V6"
   },
   "source": [
    "# Channel Remove"
   ]
  },
  {
   "cell_type": "code",
   "execution_count": null,
   "metadata": {
    "colab": {
     "base_uri": "https://localhost:8080/"
    },
    "id": "2qJ8XetagEqt",
    "outputId": "7a944a44-e55f-4be7-9ac1-fa683997baa8"
   },
   "outputs": [
    {
     "data": {
      "text/plain": [
       "{'ok': True,\n",
       " 'result': [{'update_id': 783767199,\n",
       "   'my_chat_member': {'chat': {'id': -1001658651810,\n",
       "     'title': 'Geez',\n",
       "     'type': 'channel'},\n",
       "    'from': {'id': 5342492667,\n",
       "     'is_bot': False,\n",
       "     'first_name': 'Nelson',\n",
       "     'last_name': 'II',\n",
       "     'username': 'sp3rtah',\n",
       "     'language_code': 'en'},\n",
       "    'date': 1661775876,\n",
       "    'old_chat_member': {'user': {'id': 5489700328,\n",
       "      'is_bot': True,\n",
       "      'first_name': 'Autogram',\n",
       "      'username': 'autogrammed_bot'},\n",
       "     'status': 'administrator',\n",
       "     'can_be_edited': False,\n",
       "     'can_manage_chat': True,\n",
       "     'can_change_info': True,\n",
       "     'can_post_messages': True,\n",
       "     'can_edit_messages': True,\n",
       "     'can_delete_messages': True,\n",
       "     'can_invite_users': True,\n",
       "     'can_restrict_members': True,\n",
       "     'can_promote_members': True,\n",
       "     'can_manage_video_chats': True,\n",
       "     'is_anonymous': False,\n",
       "     'can_manage_voice_chats': True},\n",
       "    'new_chat_member': {'user': {'id': 5489700328,\n",
       "      'is_bot': True,\n",
       "      'first_name': 'Autogram',\n",
       "      'username': 'autogrammed_bot'},\n",
       "     'status': 'kicked',\n",
       "     'until_date': 0}}}]}"
      ]
     },
     "execution_count": 84,
     "metadata": {},
     "output_type": "execute_result"
    }
   ],
   "source": [
    "params = {\n",
    "    'offset': 783767199,\n",
    "    'allowed_updates': '[\"message\", \"edited_message\", \"channel_post\", \"edited_channel_post\", \"inline_query\", \"chosen_inline_result\", \"chat_member\", \"my_chat_member\", \"chat_join_request\"]'\n",
    "}\n",
    "updates = requests.get(f'https://api.telegram.org/bot{TOKEN}/getUpdates', params=params)\n",
    "updates.json()"
   ]
  },
  {
   "cell_type": "markdown",
   "metadata": {
    "id": "bs724kbej74r"
   },
   "source": [
    "# Channel Updates"
   ]
  },
  {
   "cell_type": "code",
   "execution_count": null,
   "metadata": {
    "colab": {
     "base_uri": "https://localhost:8080/"
    },
    "id": "0x3P7mD1j53v",
    "outputId": "22321618-c822-4938-ccf7-04716a228c46"
   },
   "outputs": [
    {
     "data": {
      "text/plain": [
       "{'ok': True,\n",
       " 'result': [{'update_id': 783767201,\n",
       "   'channel_post': {'message_id': 10,\n",
       "    'sender_chat': {'id': -1001658651810, 'title': 'Geez', 'type': 'channel'},\n",
       "    'chat': {'id': -1001658651810, 'title': 'Geez', 'type': 'channel'},\n",
       "    'date': 1661775975,\n",
       "    'text': 'Hi'}},\n",
       "  {'update_id': 783767202,\n",
       "   'channel_post': {'message_id': 11,\n",
       "    'sender_chat': {'id': -1001658651810, 'title': 'Geez', 'type': 'channel'},\n",
       "    'chat': {'id': -1001658651810, 'title': 'Geez', 'type': 'channel'},\n",
       "    'date': 1661775978,\n",
       "    'text': '❤️'}},\n",
       "  {'update_id': 783767203,\n",
       "   'channel_post': {'message_id': 12,\n",
       "    'sender_chat': {'id': -1001658651810, 'title': 'Geez', 'type': 'channel'},\n",
       "    'chat': {'id': -1001658651810, 'title': 'Geez', 'type': 'channel'},\n",
       "    'date': 1661775989,\n",
       "    'photo': [{'file_id': 'AgACAgQAAx0CYt0EogADDGMMsHXm26thWNCld4-QBdslxadjAALRuzEbXPVoUPvQtNWWwgp2AQADAgADcwADKQQ',\n",
       "      'file_unique_id': 'AQAD0bsxG1z1aFB4',\n",
       "      'file_size': 1326,\n",
       "      'width': 90,\n",
       "      'height': 90},\n",
       "     {'file_id': 'AgACAgQAAx0CYt0EogADDGMMsHXm26thWNCld4-QBdslxadjAALRuzEbXPVoUPvQtNWWwgp2AQADAgADbQADKQQ',\n",
       "      'file_unique_id': 'AQAD0bsxG1z1aFBy',\n",
       "      'file_size': 21034,\n",
       "      'width': 320,\n",
       "      'height': 320},\n",
       "     {'file_id': 'AgACAgQAAx0CYt0EogADDGMMsHXm26thWNCld4-QBdslxadjAALRuzEbXPVoUPvQtNWWwgp2AQADAgADeAADKQQ',\n",
       "      'file_unique_id': 'AQAD0bsxG1z1aFB9',\n",
       "      'file_size': 104819,\n",
       "      'width': 800,\n",
       "      'height': 800},\n",
       "     {'file_id': 'AgACAgQAAx0CYt0EogADDGMMsHXm26thWNCld4-QBdslxadjAALRuzEbXPVoUPvQtNWWwgp2AQADAgADeQADKQQ',\n",
       "      'file_unique_id': 'AQAD0bsxG1z1aFB-',\n",
       "      'file_size': 106908,\n",
       "      'width': 896,\n",
       "      'height': 896}]}},\n",
       "  {'update_id': 783767204,\n",
       "   'channel_post': {'message_id': 13,\n",
       "    'sender_chat': {'id': -1001658651810, 'title': 'Geez', 'type': 'channel'},\n",
       "    'chat': {'id': -1001658651810, 'title': 'Geez', 'type': 'channel'},\n",
       "    'date': 1661775994,\n",
       "    'document': {'file_name': 'How to install ngrok in Termux on Android 2022 - Crisis Shelter',\n",
       "     'mime_type': 'application/octet-stream',\n",
       "     'file_id': 'BQACAgQAAx0CYt0EogADDWMMsHoXE0d22o9ga3HSPR5DJXIrAALIDQACXPVoUPTPbGzNEtOKKQQ',\n",
       "     'file_unique_id': 'AgADyA0AAlz1aFA',\n",
       "     'file_size': 208415}}},\n",
       "  {'update_id': 783767205,\n",
       "   'channel_post': {'message_id': 14,\n",
       "    'sender_chat': {'id': -1001658651810, 'title': 'Geez', 'type': 'channel'},\n",
       "    'chat': {'id': -1001658651810, 'title': 'Geez', 'type': 'channel'},\n",
       "    'date': 1661776007,\n",
       "    'audio': {'duration': 204,\n",
       "     'file_name': 'Tyga - Rna Track 12 Syrup.mp3',\n",
       "     'mime_type': 'audio/mpeg',\n",
       "     'title': '#RNA Track 12. Syrup (Official Audio)',\n",
       "     'performer': 'Tyga',\n",
       "     'file_id': 'CQACAgQAAx0CYt0EogADDmMMsIYFKr_1rur4gmLhgqCsEjh7AAImDAACJJ1pUHNjtCbEatuvKQQ',\n",
       "     'file_unique_id': 'AgADJgwAAiSdaVA',\n",
       "     'file_size': 3287713}}},\n",
       "  {'update_id': 783767206,\n",
       "   'channel_post': {'message_id': 15,\n",
       "    'sender_chat': {'id': -1001658651810, 'title': 'Geez', 'type': 'channel'},\n",
       "    'chat': {'id': -1001658651810, 'title': 'Geez', 'type': 'channel'},\n",
       "    'date': 1661776021,\n",
       "    'animation': {'file_name': 'laughing-laugh.mp4',\n",
       "     'mime_type': 'video/mp4',\n",
       "     'duration': 2,\n",
       "     'width': 320,\n",
       "     'height': 212,\n",
       "     'file_id': 'CgACAgQAAx0CYt0EogADD2MMsJVc9iEdM7T7INAKdgmdpOP7AAJtAwACy1UFU373h4q9Uvz4KQQ',\n",
       "     'file_unique_id': 'AgADbQMAAstVBVM',\n",
       "     'file_size': 92188},\n",
       "    'document': {'file_name': 'laughing-laugh.mp4',\n",
       "     'mime_type': 'video/mp4',\n",
       "     'file_id': 'CgACAgQAAx0CYt0EogADD2MMsJVc9iEdM7T7INAKdgmdpOP7AAJtAwACy1UFU373h4q9Uvz4KQQ',\n",
       "     'file_unique_id': 'AgADbQMAAstVBVM',\n",
       "     'file_size': 92188}}},\n",
       "  {'update_id': 783767207,\n",
       "   'channel_post': {'message_id': 16,\n",
       "    'sender_chat': {'id': -1001658651810, 'title': 'Geez', 'type': 'channel'},\n",
       "    'chat': {'id': -1001658651810, 'title': 'Geez', 'type': 'channel'},\n",
       "    'date': 1661776036,\n",
       "    'voice': {'duration': 2,\n",
       "     'mime_type': 'audio/ogg',\n",
       "     'file_id': 'AwACAgQAAx0CYt0EogADEGMMsKTdoXaRBCme-wnvcNCQjnz9AAInDAACJJ1pUC0UBW4ZXBV7KQQ',\n",
       "     'file_unique_id': 'AgADJwwAAiSdaVA',\n",
       "     'file_size': 53577}}},\n",
       "  {'update_id': 783767208,\n",
       "   'channel_post': {'message_id': 17,\n",
       "    'sender_chat': {'id': -1001658651810, 'title': 'Geez', 'type': 'channel'},\n",
       "    'chat': {'id': -1001658651810, 'title': 'Geez', 'type': 'channel'},\n",
       "    'date': 1661776044,\n",
       "    'video_note': {'duration': 5,\n",
       "     'length': 384,\n",
       "     'thumb': {'file_id': 'AAMCBAADHQJi3QSiAAMRYwywrCyv6rqYZxcWRSa__ul1YSYAAigMAAIknWlQAT_s7WFYkBEBAAdtAAMpBA',\n",
       "      'file_unique_id': 'AQADKAwAAiSdaVBy',\n",
       "      'file_size': 6957,\n",
       "      'width': 320,\n",
       "      'height': 320},\n",
       "     'file_id': 'DQACAgQAAx0CYt0EogADEWMMsKwsr-q6mGcXFkUmv_7pdWEmAAIoDAACJJ1pUAE_7O1hWJARKQQ',\n",
       "     'file_unique_id': 'AgADKAwAAiSdaVA',\n",
       "     'file_size': 643247}}}]}"
      ]
     },
     "execution_count": 89,
     "metadata": {},
     "output_type": "execute_result"
    }
   ],
   "source": [
    "params = {\n",
    "    'offset': 783767201,\n",
    "    'allowed_updates': '[\"message\", \"edited_message\", \"channel_post\", \"edited_channel_post\", \"inline_query\", \"chosen_inline_result\", \"chat_member\", \"my_chat_member\", \"chat_join_request\"]'\n",
    "}\n",
    "updates = requests.get(f'https://api.telegram.org/bot{TOKEN}/getUpdates', params=params)\n",
    "updates.json()"
   ]
  },
  {
   "cell_type": "markdown",
   "metadata": {
    "id": "YTtKZyONkrKF"
   },
   "source": [
    "# Channel Edit"
   ]
  },
  {
   "cell_type": "code",
   "execution_count": null,
   "metadata": {
    "colab": {
     "base_uri": "https://localhost:8080/"
    },
    "id": "s8gNUCGWj_0z",
    "outputId": "fa2c2dc0-dfd9-42ac-dd63-acf94d5bf2f2"
   },
   "outputs": [
    {
     "data": {
      "text/plain": [
       "{'ok': True,\n",
       " 'result': [{'update_id': 783767209,\n",
       "   'edited_channel_post': {'message_id': 10,\n",
       "    'sender_chat': {'id': -1001658651810, 'title': 'Geez', 'type': 'channel'},\n",
       "    'chat': {'id': -1001658651810, 'title': 'Geez', 'type': 'channel'},\n",
       "    'date': 1661775975,\n",
       "    'edit_date': 1661776164,\n",
       "    'text': 'Hello'}}]}"
      ]
     },
     "execution_count": 94,
     "metadata": {},
     "output_type": "execute_result"
    }
   ],
   "source": [
    "params = {\n",
    "    'offset': 783767209,\n",
    "    'allowed_updates': '[\"message\", \"edited_message\", \"channel_post\", \"edited_channel_post\", \"inline_query\", \"chosen_inline_result\", \"chat_member\", \"my_chat_member\", \"chat_join_request\"]'\n",
    "}\n",
    "updates = requests.get(f'https://api.telegram.org/bot{TOKEN}/getUpdates', params=params)\n",
    "updates.json()"
   ]
  },
  {
   "cell_type": "markdown",
   "metadata": {
    "id": "mtv0qpralmJn"
   },
   "source": [
    "# Update bot permissions in channel"
   ]
  },
  {
   "cell_type": "code",
   "execution_count": null,
   "metadata": {
    "colab": {
     "base_uri": "https://localhost:8080/"
    },
    "id": "VkEKbvL3lEd3",
    "outputId": "afddf600-3a03-471c-9577-26ea9f8a36da"
   },
   "outputs": [
    {
     "data": {
      "text/plain": [
       "{'ok': True,\n",
       " 'result': [{'update_id': 783767211,\n",
       "   'my_chat_member': {'chat': {'id': -1001658651810,\n",
       "     'title': 'Geez',\n",
       "     'type': 'channel'},\n",
       "    'from': {'id': 5342492667,\n",
       "     'is_bot': False,\n",
       "     'first_name': 'Nelson',\n",
       "     'last_name': 'II',\n",
       "     'username': 'sp3rtah',\n",
       "     'language_code': 'en'},\n",
       "    'date': 1661776308,\n",
       "    'old_chat_member': {'user': {'id': 5489700328,\n",
       "      'is_bot': True,\n",
       "      'first_name': 'Autogram',\n",
       "      'username': 'autogrammed_bot'},\n",
       "     'status': 'administrator',\n",
       "     'can_be_edited': False,\n",
       "     'can_manage_chat': True,\n",
       "     'can_change_info': True,\n",
       "     'can_post_messages': True,\n",
       "     'can_edit_messages': True,\n",
       "     'can_delete_messages': True,\n",
       "     'can_invite_users': True,\n",
       "     'can_restrict_members': True,\n",
       "     'can_promote_members': True,\n",
       "     'can_manage_video_chats': True,\n",
       "     'is_anonymous': False,\n",
       "     'can_manage_voice_chats': True},\n",
       "    'new_chat_member': {'user': {'id': 5489700328,\n",
       "      'is_bot': True,\n",
       "      'first_name': 'Autogram',\n",
       "      'username': 'autogrammed_bot'},\n",
       "     'status': 'administrator',\n",
       "     'can_be_edited': False,\n",
       "     'can_manage_chat': True,\n",
       "     'can_change_info': False,\n",
       "     'can_post_messages': True,\n",
       "     'can_edit_messages': True,\n",
       "     'can_delete_messages': True,\n",
       "     'can_invite_users': True,\n",
       "     'can_restrict_members': True,\n",
       "     'can_promote_members': False,\n",
       "     'can_manage_video_chats': True,\n",
       "     'is_anonymous': False,\n",
       "     'can_manage_voice_chats': True}}}]}"
      ]
     },
     "execution_count": 102,
     "metadata": {},
     "output_type": "execute_result"
    }
   ],
   "source": [
    "params = {\n",
    "    'offset': 783767211,\n",
    "    'allowed_updates': '[\"message\", \"edited_message\", \"channel_post\", \"edited_channel_post\", \"inline_query\", \"chosen_inline_result\", \"chat_member\", \"my_chat_member\", \"chat_join_request\"]'\n",
    "}\n",
    "updates = requests.get(f'https://api.telegram.org/bot{TOKEN}/getUpdates', params=params)\n",
    "updates.json()"
   ]
  },
  {
   "cell_type": "code",
   "execution_count": null,
   "metadata": {
    "id": "kJNnEuemldq4"
   },
   "outputs": [],
   "source": []
  }
 ],
 "metadata": {
  "colab": {
   "provenance": []
  },
  "kernelspec": {
   "display_name": "Python 3 (ipykernel)",
   "language": "python",
   "name": "python3"
  },
  "language_info": {
   "codemirror_mode": {
    "name": "ipython",
    "version": 3
   },
   "file_extension": ".py",
   "mimetype": "text/x-python",
   "name": "python",
   "nbconvert_exporter": "python",
   "pygments_lexer": "ipython3",
   "version": "3.10.6"
  }
 },
 "nbformat": 4,
 "nbformat_minor": 1
}
